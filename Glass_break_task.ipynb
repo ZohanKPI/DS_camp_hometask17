{
 "cells": [
  {
   "cell_type": "code",
   "execution_count": 24,
   "id": "32f6f57a",
   "metadata": {},
   "outputs": [],
   "source": [
    "def glass_drop(glass, floor):\n",
    "    dp = [[0 for i in range(glass + 1)] for\n",
    "           j in range(floor + 1)]\n",
    "    attempts = 0\n",
    " \n",
    "    while (dp[attempts][glass] < floor):\n",
    " \n",
    "        attempts += 1;\n",
    "        for i in range(1, glass + 1):\n",
    "            dp[attempts][i] = dp[attempts - 1][i - 1] + dp[attempts - 1][i] + 1\n",
    "     \n",
    "    return attempts"
   ]
  },
  {
   "cell_type": "code",
   "execution_count": 25,
   "id": "fc1a23ce",
   "metadata": {},
   "outputs": [
    {
     "name": "stdout",
     "output_type": "stream",
     "text": [
      "For 100 floors and 2 glasses: 14\n"
     ]
    }
   ],
   "source": [
    "print(f\"For 100 floors and 2 glasses: {glass_drop(2,100)}\")"
   ]
  },
  {
   "cell_type": "code",
   "execution_count": 26,
   "id": "97cb0189",
   "metadata": {},
   "outputs": [
    {
     "name": "stdout",
     "output_type": "stream",
     "text": [
      "For 1000 floors and 3 glasses: 19\n"
     ]
    }
   ],
   "source": [
    "print(f\"For 1000 floors and 3 glasses: {glass_drop(3,1000)}\")"
   ]
  },
  {
   "cell_type": "code",
   "execution_count": 27,
   "id": "a782ecac",
   "metadata": {},
   "outputs": [
    {
     "name": "stdout",
     "output_type": "stream",
     "text": [
      "For 1000 floors and 5 glasses: 11\n"
     ]
    }
   ],
   "source": [
    "print(f\"For 1000 floors and 5 glasses: {glass_drop(5,1000)}\")"
   ]
  }
 ],
 "metadata": {
  "kernelspec": {
   "display_name": "Python 3 (ipykernel)",
   "language": "python",
   "name": "python3"
  },
  "language_info": {
   "codemirror_mode": {
    "name": "ipython",
    "version": 3
   },
   "file_extension": ".py",
   "mimetype": "text/x-python",
   "name": "python",
   "nbconvert_exporter": "python",
   "pygments_lexer": "ipython3",
   "version": "3.11.5"
  }
 },
 "nbformat": 4,
 "nbformat_minor": 5
}
