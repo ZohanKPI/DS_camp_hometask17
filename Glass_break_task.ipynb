{
 "cells": [
  {
   "cell_type": "code",
   "execution_count": 8,
   "id": "623abef8",
   "metadata": {},
   "outputs": [
    {
     "name": "stdout",
     "output_type": "stream",
     "text": [
      "Worst-case scenario requires 19 attempts.\n"
     ]
    }
   ],
   "source": [
    "import random\n",
    "\n",
    "def find_breaking_floor_100_floors(breaking_floor):\n",
    "    attempt_count = 0\n",
    "    first_glass_break_floor = None\n",
    "\n",
    "    for floor in range(10, 101, 10):\n",
    "        attempt_count += 1\n",
    "        if floor >= breaking_floor:\n",
    "            first_glass_break_floor = floor\n",
    "            break\n",
    "\n",
    "    if not first_glass_break_floor:\n",
    "        first_glass_break_floor = 100\n",
    "        return (first_glass_break_floor, attempt_count)\n",
    "\n",
    "    for floor in range(first_glass_break_floor - 9, first_glass_break_floor):\n",
    "        attempt_count += 1\n",
    "        if floor >= breaking_floor:\n",
    "            return (floor, attempt_count)\n",
    "    return (None, attempt_count)\n",
    "\n",
    "def find_worst_case():\n",
    "    worst_case_attempts = 0\n",
    "    worst_case_floor = 0\n",
    "\n",
    "    for i in range(1, 101):\n",
    "        _, attempts = find_breaking_floor_100_floors(i)\n",
    "        if attempts > worst_case_attempts:\n",
    "            worst_case_attempts = attempts\n",
    "            worst_case_floor = i\n",
    "\n",
    "    return worst_case_floor, worst_case_attempts\n",
    "\n",
    "worst_case_floor, worst_case_attempts = find_worst_case()\n",
    "print(f\"Worst-case scenario requires {worst_case_attempts} attempts.\")"
   ]
  },
  {
   "cell_type": "code",
   "execution_count": 5,
   "id": "84698a91",
   "metadata": {},
   "outputs": [
    {
     "name": "stdout",
     "output_type": "stream",
     "text": [
      "Worst-case scenario requires 119 attempts.\n"
     ]
    }
   ],
   "source": [
    "def find_breaking_floor_1000_floors_3_glasses(breaking_floor):\n",
    "    attempts = 0\n",
    "    section_size = int(1000 ** (1/3))\n",
    "    current_floor = section_size\n",
    "\n",
    "    while current_floor < 1000 and breaking_floor > current_floor:\n",
    "        attempts += 1\n",
    "        current_floor += section_size\n",
    "\n",
    "    start_floor = current_floor - section_size + 1\n",
    "    if current_floor > 1000:\n",
    "        current_floor = 1000\n",
    "    end_floor = current_floor\n",
    "\n",
    "    for floor in range(start_floor, end_floor + 1):\n",
    "        attempts += 1\n",
    "        if floor >= breaking_floor:\n",
    "            return attempts\n",
    "\n",
    "    return attempts\n",
    "\n",
    "worst_case_attempts = 0\n",
    "for floor in range(1, 1001):\n",
    "    attempts = find_breaking_floor_1000_floors_3_glasses(floor)\n",
    "    worst_case_attempts = max(worst_case_attempts, attempts)\n",
    "\n",
    "print(f\"Worst-case scenario requires {worst_case_attempts} attempts.\")"
   ]
  },
  {
   "cell_type": "code",
   "execution_count": 6,
   "id": "ae8e3832",
   "metadata": {},
   "outputs": [
    {
     "name": "stdout",
     "output_type": "stream",
     "text": [
      "Worst-case scenario requires 26 attempts.\n"
     ]
    }
   ],
   "source": [
    "def find_breaking_floor_1000_floors_5_glasses(breaking_floor):\n",
    "    attempts = 0\n",
    "    intervals = [100, 50, 25, 10, 1]  \n",
    "    current_floor = 0\n",
    "\n",
    "    for interval in intervals:\n",
    "        while current_floor < 1000 and breaking_floor > current_floor:\n",
    "            attempts += 1\n",
    "            current_floor += interval\n",
    "        current_floor -= interval\n",
    "\n",
    "    return attempts\n",
    "\n",
    "worst_case_attempts = 0\n",
    "for floor in range(1, 1001):\n",
    "    attempts = find_breaking_floor_1000_floors_5_glasses(floor)\n",
    "    worst_case_attempts = max(worst_case_attempts, attempts)\n",
    "\n",
    "print(f\"Worst-case scenario requires {worst_case_attempts} attempts.\")"
   ]
  },
  {
   "cell_type": "code",
   "execution_count": null,
   "id": "6c773af8",
   "metadata": {},
   "outputs": [],
   "source": []
  }
 ],
 "metadata": {
  "kernelspec": {
   "display_name": "Python 3 (ipykernel)",
   "language": "python",
   "name": "python3"
  },
  "language_info": {
   "codemirror_mode": {
    "name": "ipython",
    "version": 3
   },
   "file_extension": ".py",
   "mimetype": "text/x-python",
   "name": "python",
   "nbconvert_exporter": "python",
   "pygments_lexer": "ipython3",
   "version": "3.11.5"
  }
 },
 "nbformat": 4,
 "nbformat_minor": 5
}
